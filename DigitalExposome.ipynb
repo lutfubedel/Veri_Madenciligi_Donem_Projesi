{
  "nbformat": 4,
  "nbformat_minor": 0,
  "metadata": {
    "colab": {
      "provenance": [],
      "toc_visible": true
    },
    "kernelspec": {
      "name": "python3",
      "display_name": "Python 3"
    },
    "language_info": {
      "name": "python"
    }
  },
  "cells": [
    {
      "cell_type": "markdown",
      "source": [
        "# DigitalExposome: Wellbeing Sınıflandırması\n",
        "Bu çalışma, çevresel hava kalitesi ve insan fizyolojik verilerine dayanarak bireylerin \"wellbeing\" (iyi oluş) seviyelerini sınıflandırmayı hedefler. Modelleme süreci Python ve scikit-learn kütüphaneleri ile gerçekleştirilmiştir.\n"
      ],
      "metadata": {
        "id": "GWNV2oyYyJ4Y"
      }
    },
    {
      "cell_type": "markdown",
      "source": [
        "## 1. Verinin Yüklenmesi\n",
        "CSV formatındaki veriseti yüklenir ve ilk satırlar incelenerek sütun yapısı ve veri örnekleri gözlemlenir.\n"
      ],
      "metadata": {
        "id": "mLA29eYtVWbH"
      }
    },
    {
      "cell_type": "code",
      "execution_count": 53,
      "metadata": {
        "id": "r2czNOhnwGPy",
        "colab": {
          "base_uri": "https://localhost:8080/",
          "height": 206
        },
        "outputId": "c1dc8947-8478-4d49-8519-c4d08dc035ca"
      },
      "outputs": [
        {
          "output_type": "execute_result",
          "data": {
            "text/plain": [
              "   IBI        HR  NO2     Noise       NH3      PM10        CO      PM25  \\\n",
              "0  0.0  0.377574  0.0  0.511358  0.003018  0.003091  0.871758  0.000000   \n",
              "1  0.0  0.196398  0.0  0.490903  0.003018  0.003091  0.876848  0.003091   \n",
              "2  0.0  0.454163  0.0  0.470449  0.006036  0.006181  0.881939  0.006181   \n",
              "3  0.0  0.322451  0.0  0.449995  0.009055  0.009272  0.887030  0.009272   \n",
              "4  0.0  0.237595  0.0  0.429540  0.012073  0.012362  0.892121  0.012362   \n",
              "\n",
              "   Label       PM1  EDA  BVP  \n",
              "0      5  0.000000  0.0  0.0  \n",
              "1      5  0.001854  0.0  0.0  \n",
              "2      5  0.003709  0.0  0.0  \n",
              "3      5  0.005563  0.0  0.0  \n",
              "4      5  0.007417  0.0  0.0  "
            ],
            "text/html": [
              "\n",
              "  <div id=\"df-3983ee93-2b66-4c32-8922-5cb887699bd5\" class=\"colab-df-container\">\n",
              "    <div>\n",
              "<style scoped>\n",
              "    .dataframe tbody tr th:only-of-type {\n",
              "        vertical-align: middle;\n",
              "    }\n",
              "\n",
              "    .dataframe tbody tr th {\n",
              "        vertical-align: top;\n",
              "    }\n",
              "\n",
              "    .dataframe thead th {\n",
              "        text-align: right;\n",
              "    }\n",
              "</style>\n",
              "<table border=\"1\" class=\"dataframe\">\n",
              "  <thead>\n",
              "    <tr style=\"text-align: right;\">\n",
              "      <th></th>\n",
              "      <th>IBI</th>\n",
              "      <th>HR</th>\n",
              "      <th>NO2</th>\n",
              "      <th>Noise</th>\n",
              "      <th>NH3</th>\n",
              "      <th>PM10</th>\n",
              "      <th>CO</th>\n",
              "      <th>PM25</th>\n",
              "      <th>Label</th>\n",
              "      <th>PM1</th>\n",
              "      <th>EDA</th>\n",
              "      <th>BVP</th>\n",
              "    </tr>\n",
              "  </thead>\n",
              "  <tbody>\n",
              "    <tr>\n",
              "      <th>0</th>\n",
              "      <td>0.0</td>\n",
              "      <td>0.377574</td>\n",
              "      <td>0.0</td>\n",
              "      <td>0.511358</td>\n",
              "      <td>0.003018</td>\n",
              "      <td>0.003091</td>\n",
              "      <td>0.871758</td>\n",
              "      <td>0.000000</td>\n",
              "      <td>5</td>\n",
              "      <td>0.000000</td>\n",
              "      <td>0.0</td>\n",
              "      <td>0.0</td>\n",
              "    </tr>\n",
              "    <tr>\n",
              "      <th>1</th>\n",
              "      <td>0.0</td>\n",
              "      <td>0.196398</td>\n",
              "      <td>0.0</td>\n",
              "      <td>0.490903</td>\n",
              "      <td>0.003018</td>\n",
              "      <td>0.003091</td>\n",
              "      <td>0.876848</td>\n",
              "      <td>0.003091</td>\n",
              "      <td>5</td>\n",
              "      <td>0.001854</td>\n",
              "      <td>0.0</td>\n",
              "      <td>0.0</td>\n",
              "    </tr>\n",
              "    <tr>\n",
              "      <th>2</th>\n",
              "      <td>0.0</td>\n",
              "      <td>0.454163</td>\n",
              "      <td>0.0</td>\n",
              "      <td>0.470449</td>\n",
              "      <td>0.006036</td>\n",
              "      <td>0.006181</td>\n",
              "      <td>0.881939</td>\n",
              "      <td>0.006181</td>\n",
              "      <td>5</td>\n",
              "      <td>0.003709</td>\n",
              "      <td>0.0</td>\n",
              "      <td>0.0</td>\n",
              "    </tr>\n",
              "    <tr>\n",
              "      <th>3</th>\n",
              "      <td>0.0</td>\n",
              "      <td>0.322451</td>\n",
              "      <td>0.0</td>\n",
              "      <td>0.449995</td>\n",
              "      <td>0.009055</td>\n",
              "      <td>0.009272</td>\n",
              "      <td>0.887030</td>\n",
              "      <td>0.009272</td>\n",
              "      <td>5</td>\n",
              "      <td>0.005563</td>\n",
              "      <td>0.0</td>\n",
              "      <td>0.0</td>\n",
              "    </tr>\n",
              "    <tr>\n",
              "      <th>4</th>\n",
              "      <td>0.0</td>\n",
              "      <td>0.237595</td>\n",
              "      <td>0.0</td>\n",
              "      <td>0.429540</td>\n",
              "      <td>0.012073</td>\n",
              "      <td>0.012362</td>\n",
              "      <td>0.892121</td>\n",
              "      <td>0.012362</td>\n",
              "      <td>5</td>\n",
              "      <td>0.007417</td>\n",
              "      <td>0.0</td>\n",
              "      <td>0.0</td>\n",
              "    </tr>\n",
              "  </tbody>\n",
              "</table>\n",
              "</div>\n",
              "    <div class=\"colab-df-buttons\">\n",
              "\n",
              "  <div class=\"colab-df-container\">\n",
              "    <button class=\"colab-df-convert\" onclick=\"convertToInteractive('df-3983ee93-2b66-4c32-8922-5cb887699bd5')\"\n",
              "            title=\"Convert this dataframe to an interactive table.\"\n",
              "            style=\"display:none;\">\n",
              "\n",
              "  <svg xmlns=\"http://www.w3.org/2000/svg\" height=\"24px\" viewBox=\"0 -960 960 960\">\n",
              "    <path d=\"M120-120v-720h720v720H120Zm60-500h600v-160H180v160Zm220 220h160v-160H400v160Zm0 220h160v-160H400v160ZM180-400h160v-160H180v160Zm440 0h160v-160H620v160ZM180-180h160v-160H180v160Zm440 0h160v-160H620v160Z\"/>\n",
              "  </svg>\n",
              "    </button>\n",
              "\n",
              "  <style>\n",
              "    .colab-df-container {\n",
              "      display:flex;\n",
              "      gap: 12px;\n",
              "    }\n",
              "\n",
              "    .colab-df-convert {\n",
              "      background-color: #E8F0FE;\n",
              "      border: none;\n",
              "      border-radius: 50%;\n",
              "      cursor: pointer;\n",
              "      display: none;\n",
              "      fill: #1967D2;\n",
              "      height: 32px;\n",
              "      padding: 0 0 0 0;\n",
              "      width: 32px;\n",
              "    }\n",
              "\n",
              "    .colab-df-convert:hover {\n",
              "      background-color: #E2EBFA;\n",
              "      box-shadow: 0px 1px 2px rgba(60, 64, 67, 0.3), 0px 1px 3px 1px rgba(60, 64, 67, 0.15);\n",
              "      fill: #174EA6;\n",
              "    }\n",
              "\n",
              "    .colab-df-buttons div {\n",
              "      margin-bottom: 4px;\n",
              "    }\n",
              "\n",
              "    [theme=dark] .colab-df-convert {\n",
              "      background-color: #3B4455;\n",
              "      fill: #D2E3FC;\n",
              "    }\n",
              "\n",
              "    [theme=dark] .colab-df-convert:hover {\n",
              "      background-color: #434B5C;\n",
              "      box-shadow: 0px 1px 3px 1px rgba(0, 0, 0, 0.15);\n",
              "      filter: drop-shadow(0px 1px 2px rgba(0, 0, 0, 0.3));\n",
              "      fill: #FFFFFF;\n",
              "    }\n",
              "  </style>\n",
              "\n",
              "    <script>\n",
              "      const buttonEl =\n",
              "        document.querySelector('#df-3983ee93-2b66-4c32-8922-5cb887699bd5 button.colab-df-convert');\n",
              "      buttonEl.style.display =\n",
              "        google.colab.kernel.accessAllowed ? 'block' : 'none';\n",
              "\n",
              "      async function convertToInteractive(key) {\n",
              "        const element = document.querySelector('#df-3983ee93-2b66-4c32-8922-5cb887699bd5');\n",
              "        const dataTable =\n",
              "          await google.colab.kernel.invokeFunction('convertToInteractive',\n",
              "                                                    [key], {});\n",
              "        if (!dataTable) return;\n",
              "\n",
              "        const docLinkHtml = 'Like what you see? Visit the ' +\n",
              "          '<a target=\"_blank\" href=https://colab.research.google.com/notebooks/data_table.ipynb>data table notebook</a>'\n",
              "          + ' to learn more about interactive tables.';\n",
              "        element.innerHTML = '';\n",
              "        dataTable['output_type'] = 'display_data';\n",
              "        await google.colab.output.renderOutput(dataTable, element);\n",
              "        const docLink = document.createElement('div');\n",
              "        docLink.innerHTML = docLinkHtml;\n",
              "        element.appendChild(docLink);\n",
              "      }\n",
              "    </script>\n",
              "  </div>\n",
              "\n",
              "\n",
              "    <div id=\"df-ebc9e444-fe8f-4a13-8bea-e1799418ddd9\">\n",
              "      <button class=\"colab-df-quickchart\" onclick=\"quickchart('df-ebc9e444-fe8f-4a13-8bea-e1799418ddd9')\"\n",
              "                title=\"Suggest charts\"\n",
              "                style=\"display:none;\">\n",
              "\n",
              "<svg xmlns=\"http://www.w3.org/2000/svg\" height=\"24px\"viewBox=\"0 0 24 24\"\n",
              "     width=\"24px\">\n",
              "    <g>\n",
              "        <path d=\"M19 3H5c-1.1 0-2 .9-2 2v14c0 1.1.9 2 2 2h14c1.1 0 2-.9 2-2V5c0-1.1-.9-2-2-2zM9 17H7v-7h2v7zm4 0h-2V7h2v10zm4 0h-2v-4h2v4z\"/>\n",
              "    </g>\n",
              "</svg>\n",
              "      </button>\n",
              "\n",
              "<style>\n",
              "  .colab-df-quickchart {\n",
              "      --bg-color: #E8F0FE;\n",
              "      --fill-color: #1967D2;\n",
              "      --hover-bg-color: #E2EBFA;\n",
              "      --hover-fill-color: #174EA6;\n",
              "      --disabled-fill-color: #AAA;\n",
              "      --disabled-bg-color: #DDD;\n",
              "  }\n",
              "\n",
              "  [theme=dark] .colab-df-quickchart {\n",
              "      --bg-color: #3B4455;\n",
              "      --fill-color: #D2E3FC;\n",
              "      --hover-bg-color: #434B5C;\n",
              "      --hover-fill-color: #FFFFFF;\n",
              "      --disabled-bg-color: #3B4455;\n",
              "      --disabled-fill-color: #666;\n",
              "  }\n",
              "\n",
              "  .colab-df-quickchart {\n",
              "    background-color: var(--bg-color);\n",
              "    border: none;\n",
              "    border-radius: 50%;\n",
              "    cursor: pointer;\n",
              "    display: none;\n",
              "    fill: var(--fill-color);\n",
              "    height: 32px;\n",
              "    padding: 0;\n",
              "    width: 32px;\n",
              "  }\n",
              "\n",
              "  .colab-df-quickchart:hover {\n",
              "    background-color: var(--hover-bg-color);\n",
              "    box-shadow: 0 1px 2px rgba(60, 64, 67, 0.3), 0 1px 3px 1px rgba(60, 64, 67, 0.15);\n",
              "    fill: var(--button-hover-fill-color);\n",
              "  }\n",
              "\n",
              "  .colab-df-quickchart-complete:disabled,\n",
              "  .colab-df-quickchart-complete:disabled:hover {\n",
              "    background-color: var(--disabled-bg-color);\n",
              "    fill: var(--disabled-fill-color);\n",
              "    box-shadow: none;\n",
              "  }\n",
              "\n",
              "  .colab-df-spinner {\n",
              "    border: 2px solid var(--fill-color);\n",
              "    border-color: transparent;\n",
              "    border-bottom-color: var(--fill-color);\n",
              "    animation:\n",
              "      spin 1s steps(1) infinite;\n",
              "  }\n",
              "\n",
              "  @keyframes spin {\n",
              "    0% {\n",
              "      border-color: transparent;\n",
              "      border-bottom-color: var(--fill-color);\n",
              "      border-left-color: var(--fill-color);\n",
              "    }\n",
              "    20% {\n",
              "      border-color: transparent;\n",
              "      border-left-color: var(--fill-color);\n",
              "      border-top-color: var(--fill-color);\n",
              "    }\n",
              "    30% {\n",
              "      border-color: transparent;\n",
              "      border-left-color: var(--fill-color);\n",
              "      border-top-color: var(--fill-color);\n",
              "      border-right-color: var(--fill-color);\n",
              "    }\n",
              "    40% {\n",
              "      border-color: transparent;\n",
              "      border-right-color: var(--fill-color);\n",
              "      border-top-color: var(--fill-color);\n",
              "    }\n",
              "    60% {\n",
              "      border-color: transparent;\n",
              "      border-right-color: var(--fill-color);\n",
              "    }\n",
              "    80% {\n",
              "      border-color: transparent;\n",
              "      border-right-color: var(--fill-color);\n",
              "      border-bottom-color: var(--fill-color);\n",
              "    }\n",
              "    90% {\n",
              "      border-color: transparent;\n",
              "      border-bottom-color: var(--fill-color);\n",
              "    }\n",
              "  }\n",
              "</style>\n",
              "\n",
              "      <script>\n",
              "        async function quickchart(key) {\n",
              "          const quickchartButtonEl =\n",
              "            document.querySelector('#' + key + ' button');\n",
              "          quickchartButtonEl.disabled = true;  // To prevent multiple clicks.\n",
              "          quickchartButtonEl.classList.add('colab-df-spinner');\n",
              "          try {\n",
              "            const charts = await google.colab.kernel.invokeFunction(\n",
              "                'suggestCharts', [key], {});\n",
              "          } catch (error) {\n",
              "            console.error('Error during call to suggestCharts:', error);\n",
              "          }\n",
              "          quickchartButtonEl.classList.remove('colab-df-spinner');\n",
              "          quickchartButtonEl.classList.add('colab-df-quickchart-complete');\n",
              "        }\n",
              "        (() => {\n",
              "          let quickchartButtonEl =\n",
              "            document.querySelector('#df-ebc9e444-fe8f-4a13-8bea-e1799418ddd9 button');\n",
              "          quickchartButtonEl.style.display =\n",
              "            google.colab.kernel.accessAllowed ? 'block' : 'none';\n",
              "        })();\n",
              "      </script>\n",
              "    </div>\n",
              "\n",
              "    </div>\n",
              "  </div>\n"
            ],
            "application/vnd.google.colaboratory.intrinsic+json": {
              "type": "dataframe",
              "variable_name": "df",
              "summary": "{\n  \"name\": \"df\",\n  \"rows\": 42436,\n  \"fields\": [\n    {\n      \"column\": \"IBI\",\n      \"properties\": {\n        \"dtype\": \"number\",\n        \"std\": 0.23012737403890077,\n        \"min\": 0.0,\n        \"max\": 1.0,\n        \"num_unique_values\": 12385,\n        \"samples\": [\n          0.109412027,\n          0.40139669,\n          0.183927869\n        ],\n        \"semantic_type\": \"\",\n        \"description\": \"\"\n      }\n    },\n    {\n      \"column\": \"HR\",\n      \"properties\": {\n        \"dtype\": \"number\",\n        \"std\": 0.2665311352912286,\n        \"min\": 0.0,\n        \"max\": 1.0,\n        \"num_unique_values\": 22911,\n        \"samples\": [\n          0.341198777,\n          0.366316492,\n          0.215918614\n        ],\n        \"semantic_type\": \"\",\n        \"description\": \"\"\n      }\n    },\n    {\n      \"column\": \"NO2\",\n      \"properties\": {\n        \"dtype\": \"number\",\n        \"std\": 0.27491407397677936,\n        \"min\": 0.0,\n        \"max\": 1.0,\n        \"num_unique_values\": 18202,\n        \"samples\": [\n          0.759591927,\n          0.159082824,\n          0.639957217\n        ],\n        \"semantic_type\": \"\",\n        \"description\": \"\"\n      }\n    },\n    {\n      \"column\": \"Noise\",\n      \"properties\": {\n        \"dtype\": \"number\",\n        \"std\": 0.24760131503994792,\n        \"min\": 0.0,\n        \"max\": 1.0,\n        \"num_unique_values\": 27533,\n        \"samples\": [\n          0.179154721,\n          0.780780113,\n          0.377665305\n        ],\n        \"semantic_type\": \"\",\n        \"description\": \"\"\n      }\n    },\n    {\n      \"column\": \"NH3\",\n      \"properties\": {\n        \"dtype\": \"number\",\n        \"std\": 0.2945152928992718,\n        \"min\": 0.0,\n        \"max\": 1.0,\n        \"num_unique_values\": 21387,\n        \"samples\": [\n          0.245786816,\n          0.599864109,\n          0.340037718\n        ],\n        \"semantic_type\": \"\",\n        \"description\": \"\"\n      }\n    },\n    {\n      \"column\": \"PM10\",\n      \"properties\": {\n        \"dtype\": \"number\",\n        \"std\": 0.21098069050526566,\n        \"min\": 0.0,\n        \"max\": 1.0,\n        \"num_unique_values\": 18211,\n        \"samples\": [\n          0.004440484,\n          0.157813868,\n          0.206530449\n        ],\n        \"semantic_type\": \"\",\n        \"description\": \"\"\n      }\n    },\n    {\n      \"column\": \"CO\",\n      \"properties\": {\n        \"dtype\": \"number\",\n        \"std\": 0.308111151352269,\n        \"min\": 0.0,\n        \"max\": 5.0,\n        \"num_unique_values\": 20648,\n        \"samples\": [\n          0.940279167,\n          0.322688134,\n          0.056594473\n        ],\n        \"semantic_type\": \"\",\n        \"description\": \"\"\n      }\n    },\n    {\n      \"column\": \"PM25\",\n      \"properties\": {\n        \"dtype\": \"number\",\n        \"std\": 0.22324244200264284,\n        \"min\": 0.0,\n        \"max\": 1.0,\n        \"num_unique_values\": 17183,\n        \"samples\": [\n          0.025480748,\n          0.063202674,\n          0.115057529\n        ],\n        \"semantic_type\": \"\",\n        \"description\": \"\"\n      }\n    },\n    {\n      \"column\": \"Label\",\n      \"properties\": {\n        \"dtype\": \"number\",\n        \"std\": 1,\n        \"min\": 1,\n        \"max\": 5,\n        \"num_unique_values\": 5,\n        \"samples\": [\n          4,\n          1,\n          3\n        ],\n        \"semantic_type\": \"\",\n        \"description\": \"\"\n      }\n    },\n    {\n      \"column\": \"PM1\",\n      \"properties\": {\n        \"dtype\": \"number\",\n        \"std\": 0.2552532193402614,\n        \"min\": 0.0,\n        \"max\": 24.0,\n        \"num_unique_values\": 16204,\n        \"samples\": [\n          0.089088568,\n          0.032868366,\n          0.122918319\n        ],\n        \"semantic_type\": \"\",\n        \"description\": \"\"\n      }\n    },\n    {\n      \"column\": \"EDA\",\n      \"properties\": {\n        \"dtype\": \"number\",\n        \"std\": 0.22172499176143837,\n        \"min\": 0.0,\n        \"max\": 1.0,\n        \"num_unique_values\": 23104,\n        \"samples\": [\n          0.231521999,\n          0.683555825,\n          0.166581986\n        ],\n        \"semantic_type\": \"\",\n        \"description\": \"\"\n      }\n    },\n    {\n      \"column\": \"BVP\",\n      \"properties\": {\n        \"dtype\": \"number\",\n        \"std\": 0.17556860656212778,\n        \"min\": 0.0,\n        \"max\": 1.0,\n        \"num_unique_values\": 25110,\n        \"samples\": [\n          0.436328635,\n          0.689859498,\n          0.45483988\n        ],\n        \"semantic_type\": \"\",\n        \"description\": \"\"\n      }\n    }\n  ]\n}"
            }
          },
          "metadata": {},
          "execution_count": 53
        }
      ],
      "source": [
        "# Kütüphaneler import edilir\n",
        "import numpy as np\n",
        "import matplotlib.pyplot as plt\n",
        "import pandas as pd\n",
        "import seaborn as sns\n",
        "\n",
        "# Verisetini yükle\n",
        "df = pd.read_csv(\"DigitalExposome Dataset.csv\")\n",
        "df.head()"
      ]
    },
    {
      "cell_type": "code",
      "source": [
        "# Eksik değer kontrolü\n",
        "print(df.isnull().sum())"
      ],
      "metadata": {
        "colab": {
          "base_uri": "https://localhost:8080/"
        },
        "id": "FwPA-_GWT5d4",
        "outputId": "72450d05-ce28-4ef2-ea09-1c3aedd1b543"
      },
      "execution_count": 54,
      "outputs": [
        {
          "output_type": "stream",
          "name": "stdout",
          "text": [
            "IBI      0\n",
            "HR       0\n",
            "NO2      0\n",
            "Noise    0\n",
            "NH3      0\n",
            "PM10     0\n",
            "CO       0\n",
            "PM25     0\n",
            "Label    0\n",
            "PM1      0\n",
            "EDA      0\n",
            "BVP      0\n",
            "dtype: int64\n"
          ]
        }
      ]
    },
    {
      "cell_type": "markdown",
      "source": [
        "## 2. Etiket Dağılımının Görselleştirilmesi\n",
        "Verisetindeki 'Label' sütunundaki değerlerin frekansı hesaplanır ve görselleştirilerek sınıf dengesizliği olup olmadığı analiz edilir.\n"
      ],
      "metadata": {
        "id": "zooS_RZFVaxv"
      }
    },
    {
      "cell_type": "code",
      "source": [
        "# Etiket dağılımını görselleştirmek için fonksiyon\n",
        "def ShowLabelCounts():\n",
        "    label_counts = df['Label'].value_counts()\n",
        "    labels = label_counts.index\n",
        "    counts = label_counts.values\n",
        "\n",
        "    # Grafik boyutu ve çubuk grafiği oluştur\n",
        "    plt.figure(figsize=(9, 6))\n",
        "    bars = plt.bar(labels, counts, color='skyblue')\n",
        "\n",
        "    # Başlık ve eksen etiketleri\n",
        "    plt.title('Label Distribution', fontsize=14, weight='bold')\n",
        "    plt.xlabel('Label', fontsize=13)\n",
        "    plt.ylabel('Count', fontsize=13)\n",
        "\n",
        "    # Çubukların üzerine sayıları yaz\n",
        "    for bar in bars:\n",
        "        height = bar.get_height()\n",
        "        plt.text(bar.get_x() + bar.get_width() / 2,\n",
        "                 height + (max(counts) * 0.01),\n",
        "                 f'{int(height)}', ha='center', va='bottom', fontsize=11)\n",
        "\n",
        "    plt.xticks(fontsize=12)\n",
        "    plt.yticks(fontsize=12)\n",
        "    plt.tight_layout()\n",
        "    plt.show()\n",
        "\n",
        "# Fonksiyonu çağır\n",
        "ShowLabelCounts()\n"
      ],
      "metadata": {
        "id": "VD0SovdGUAQ5",
        "colab": {
          "base_uri": "https://localhost:8080/",
          "height": 607
        },
        "outputId": "d8c305bc-77a3-4056-bc31-6b6c8f209e5f"
      },
      "execution_count": 55,
      "outputs": [
        {
          "output_type": "display_data",
          "data": {
            "text/plain": [
              "<Figure size 900x600 with 1 Axes>"
            ],
            "image/png": "[encoded data removed]"
          },
          "metadata": {}
        }
      ]
    },
    {
      "cell_type": "markdown",
      "source": [
        "## 3. Özelliklerin ve Etiketlerin Ayrılması\n",
        "Tahmin edilecek etiket (y) ile özellikler (x) ayrılır. Daha sonra veri eğitim ve test setlerine bölünür.\n"
      ],
      "metadata": {
        "id": "sZGKqDKZVf8J"
      }
    },
    {
      "cell_type": "code",
      "source": [
        "# Verisetini y (tahmin edilecek label değeri) ve x (tahmin etmek için kullanılacak parametreler) olarak ayır.\n",
        "y = df.iloc[:, 8:9]\n",
        "x = df.drop(y, axis=1)"
      ],
      "metadata": {
        "id": "1bxeZQ0b8I-5"
      },
      "execution_count": 56,
      "outputs": []
    },
    {
      "cell_type": "code",
      "source": [
        "# Verisetini train ve test olarak ayır.\n",
        "from sklearn.model_selection import train_test_split\n",
        "x_train, x_test, y_train, y_test = train_test_split(x, y, test_size=0.4, random_state=17)"
      ],
      "metadata": {
        "id": "7hIG-9qUCzeq"
      },
      "execution_count": 57,
      "outputs": []
    },
    {
      "cell_type": "code",
      "source": [
        "print(\"Train DataSet\\n-----------------------------------------------------\")\n",
        "print(y_train['Label'].value_counts())\n",
        "print(\"\\n------------------------------------------------------\\nTest DataSet\\n------------------------------------------------------\")\n",
        "print(y_test['Label'].value_counts())"
      ],
      "metadata": {
        "colab": {
          "base_uri": "https://localhost:8080/"
        },
        "id": "qRRuInkxkzEB",
        "outputId": "963447b8-96d2-4cd9-a691-0b48f626a13d",
        "collapsed": true
      },
      "execution_count": 58,
      "outputs": [
        {
          "output_type": "stream",
          "name": "stdout",
          "text": [
            "Train DataSet\n",
            "-----------------------------------------------------\n",
            "Label\n",
            "5    9622\n",
            "1    5470\n",
            "2    3848\n",
            "4    3606\n",
            "3    2915\n",
            "Name: count, dtype: int64\n",
            "\n",
            "------------------------------------------------------\n",
            "Test DataSet\n",
            "------------------------------------------------------\n",
            "Label\n",
            "5    6531\n",
            "1    3578\n",
            "2    2499\n",
            "4    2373\n",
            "3    1994\n",
            "Name: count, dtype: int64\n"
          ]
        }
      ]
    },
    {
      "cell_type": "markdown",
      "source": [
        "## 4. Random Forest ile Model Eğitimi\n",
        "Random Forest algoritması kullanılarak model oluşturulur ve eğitim verisi ile eğitilir.\n"
      ],
      "metadata": {
        "id": "yUqpjJuZVjJh"
      }
    },
    {
      "cell_type": "code",
      "source": [
        "# Random Forest Classifier Modeli uygula\n",
        "from sklearn.ensemble import RandomForestClassifier\n",
        "\n",
        "rfc = RandomForestClassifier(n_estimators=10, criterion=\"entropy\")\n",
        "rfc.fit(x_train, y_train)"
      ],
      "metadata": {
        "colab": {
          "base_uri": "https://localhost:8080/",
          "height": 135
        },
        "id": "HIdtVlZ18Bzy",
        "outputId": "ecfd4a22-f489-4fad-81b7-4899210cf4f5"
      },
      "execution_count": 59,
      "outputs": [
        {
          "output_type": "stream",
          "name": "stderr",
          "text": [
            "/usr/local/lib/python3.11/dist-packages/sklearn/base.py:1389: DataConversionWarning: A column-vector y was passed when a 1d array was expected. Please change the shape of y to (n_samples,), for example using ravel().\n",
            "  return fit_method(estimator, *args, **kwargs)\n"
          ]
        },
        {
          "output_type": "execute_result",
          "data": {
            "text/plain": [
              "RandomForestClassifier(criterion='entropy', n_estimators=10)"
            ],
            "text/html": [
              "<style>#sk-container-id-4 {\n",
              "  /* Definition of color scheme common for light and dark mode */\n",
              "  --sklearn-color-text: #000;\n",
              "  --sklearn-color-text-muted: #666;\n",
              "  --sklearn-color-line: gray;\n",
              "  /* Definition of color scheme for unfitted estimators */\n",
              "  --sklearn-color-unfitted-level-0: #fff5e6;\n",
              "  --sklearn-color-unfitted-level-1: #f6e4d2;\n",
              "  --sklearn-color-unfitted-level-2: #ffe0b3;\n",
              "  --sklearn-color-unfitted-level-3: chocolate;\n",
              "  /* Definition of color scheme for fitted estimators */\n",
              "  --sklearn-color-fitted-level-0: #f0f8ff;\n",
              "  --sklearn-color-fitted-level-1: #d4ebff;\n",
              "  --sklearn-color-fitted-level-2: #b3dbfd;\n",
              "  --sklearn-color-fitted-level-3: cornflowerblue;\n",
              "\n",
              "  /* Specific color for light theme */\n",
              "  --sklearn-color-text-on-default-background: var(--sg-text-color, var(--theme-code-foreground, var(--jp-content-font-color1, black)));\n",
              "  --sklearn-color-background: var(--sg-background-color, var(--theme-background, var(--jp-layout-color0, white)));\n",
              "  --sklearn-color-border-box: var(--sg-text-color, var(--theme-code-foreground, var(--jp-content-font-color1, black)));\n",
              "  --sklearn-color-icon: #696969;\n",
              "\n",
              "  @media (prefers-color-scheme: dark) {\n",
              "    /* Redefinition of color scheme for dark theme */\n",
              "    --sklearn-color-text-on-default-background: var(--sg-text-color, var(--theme-code-foreground, var(--jp-content-font-color1, white)));\n",
              "    --sklearn-color-background: var(--sg-background-color, var(--theme-background, var(--jp-layout-color0, #111)));\n",
              "    --sklearn-color-border-box: var(--sg-text-color, var(--theme-code-foreground, var(--jp-content-font-color1, white)));\n",
              "    --sklearn-color-icon: #878787;\n",
              "  }\n",
              "}\n",
              "\n",
              "#sk-container-id-4 {\n",
              "  color: var(--sklearn-color-text);\n",
              "}\n",
              "\n",
              "#sk-container-id-4 pre {\n",
              "  padding: 0;\n",
              "}\n",
              "\n",
              "#sk-container-id-4 input.sk-hidden--visually {\n",
              "  border: 0;\n",
              "  clip: rect(1px 1px 1px 1px);\n",
              "  clip: rect(1px, 1px, 1px, 1px);\n",
              "  height: 1px;\n",
              "  margin: -1px;\n",
              "  overflow: hidden;\n",
              "  padding: 0;\n",
              "  position: absolute;\n",
              "  width: 1px;\n",
              "}\n",
              "\n",
              "#sk-container-id-4 div.sk-dashed-wrapped {\n",
              "  border: 1px dashed var(--sklearn-color-line);\n",
              "  margin: 0 0.4em 0.5em 0.4em;\n",
              "  box-sizing: border-box;\n",
              "  padding-bottom: 0.4em;\n",
              "  background-color: var(--sklearn-color-background);\n",
              "}\n",
              "\n",
              "#sk-container-id-4 div.sk-container {\n",
              "  /* jupyter's `normalize.less` sets `[hidden] { display: none; }`\n",
              "     but bootstrap.min.css set `[hidden] { display: none !important; }`\n",
              "     so we also need the `!important` here to be able to override the\n",
              "     default hidden behavior on the sphinx rendered scikit-learn.org.\n",
              "     See: https://github.com/scikit-learn/scikit-learn/issues/21755 */\n",
              "  display: inline-block !important;\n",
              "  position: relative;\n",
              "}\n",
              "\n",
              "#sk-container-id-4 div.sk-text-repr-fallback {\n",
              "  display: none;\n",
              "}\n",
              "\n",
              "div.sk-parallel-item,\n",
              "div.sk-serial,\n",
              "div.sk-item {\n",
              "  /* draw centered vertical line to link estimators */\n",
              "  background-image: linear-gradient(var(--sklearn-color-text-on-default-background), var(--sklearn-color-text-on-default-background));\n",
              "  background-size: 2px 100%;\n",
              "  background-repeat: no-repeat;\n",
              "  background-position: center center;\n",
              "}\n",
              "\n",
              "/* Parallel-specific style estimator block */\n",
              "\n",
              "#sk-container-id-4 div.sk-parallel-item::after {\n",
              "  content: \"\";\n",
              "  width: 100%;\n",
              "  border-bottom: 2px solid var(--sklearn-color-text-on-default-background);\n",
              "  flex-grow: 1;\n",
              "}\n",
              "\n",
              "#sk-container-id-4 div.sk-parallel {\n",
              "  display: flex;\n",
              "  align-items: stretch;\n",
              "  justify-content: center;\n",
              "  background-color: var(--sklearn-color-background);\n",
              "  position: relative;\n",
              "}\n",
              "\n",
              "#sk-container-id-4 div.sk-parallel-item {\n",
              "  display: flex;\n",
              "  flex-direction: column;\n",
              "}\n",
              "\n",
              "#sk-container-id-4 div.sk-parallel-item:first-child::after {\n",
              "  align-self: flex-end;\n",
              "  width: 50%;\n",
              "}\n",
              "\n",
              "#sk-container-id-4 div.sk-parallel-item:last-child::after {\n",
              "  align-self: flex-start;\n",
              "  width: 50%;\n",
              "}\n",
              "\n",
              "#sk-container-id-4 div.sk-parallel-item:only-child::after {\n",
              "  width: 0;\n",
              "}\n",
              "\n",
              "/* Serial-specific style estimator block */\n",
              "\n",
              "#sk-container-id-4 div.sk-serial {\n",
              "  display: flex;\n",
              "  flex-direction: column;\n",
              "  align-items: center;\n",
              "  background-color: var(--sklearn-color-background);\n",
              "  padding-right: 1em;\n",
              "  padding-left: 1em;\n",
              "}\n",
              "\n",
              "\n",
              "/* Toggleable style: style used for estimator/Pipeline/ColumnTransformer box that is\n",
              "clickable and can be expanded/collapsed.\n",
              "- Pipeline and ColumnTransformer use this feature and define the default style\n",
              "- Estimators will overwrite some part of the style using the `sk-estimator` class\n",
              "*/\n",
              "\n",
              "/* Pipeline and ColumnTransformer style (default) */\n",
              "\n",
              "#sk-container-id-4 div.sk-toggleable {\n",
              "  /* Default theme specific background. It is overwritten whether we have a\n",
              "  specific estimator or a Pipeline/ColumnTransformer */\n",
              "  background-color: var(--sklearn-color-background);\n",
              "}\n",
              "\n",
              "/* Toggleable label */\n",
              "#sk-container-id-4 label.sk-toggleable__label {\n",
              "  cursor: pointer;\n",
              "  display: flex;\n",
              "  width: 100%;\n",
              "  margin-bottom: 0;\n",
              "  padding: 0.5em;\n",
              "  box-sizing: border-box;\n",
              "  text-align: center;\n",
              "  align-items: start;\n",
              "  justify-content: space-between;\n",
              "  gap: 0.5em;\n",
              "}\n",
              "\n",
              "#sk-container-id-4 label.sk-toggleable__label .caption {\n",
              "  font-size: 0.6rem;\n",
              "  font-weight: lighter;\n",
              "  color: var(--sklearn-color-text-muted);\n",
              "}\n",
              "\n",
              "#sk-container-id-4 label.sk-toggleable__label-arrow:before {\n",
              "  /* Arrow on the left of the label */\n",
              "  content: \"▸\";\n",
              "  float: left;\n",
              "  margin-right: 0.25em;\n",
              "  color: var(--sklearn-color-icon);\n",
              "}\n",
              "\n",
              "#sk-container-id-4 label.sk-toggleable__label-arrow:hover:before {\n",
              "  color: var(--sklearn-color-text);\n",
              "}\n",
              "\n",
              "/* Toggleable content - dropdown */\n",
              "\n",
              "#sk-container-id-4 div.sk-toggleable__content {\n",
              "  max-height: 0;\n",
              "  max-width: 0;\n",
              "  overflow: hidden;\n",
              "  text-align: left;\n",
              "  /* unfitted */\n",
              "  background-color: var(--sklearn-color-unfitted-level-0);\n",
              "}\n",
              "\n",
              "#sk-container-id-4 div.sk-toggleable__content.fitted {\n",
              "  /* fitted */\n",
              "  background-color: var(--sklearn-color-fitted-level-0);\n",
              "}\n",
              "\n",
              "#sk-container-id-4 div.sk-toggleable__content pre {\n",
              "  margin: 0.2em;\n",
              "  border-radius: 0.25em;\n",
              "  color: var(--sklearn-color-text);\n",
              "  /* unfitted */\n",
              "  background-color: var(--sklearn-color-unfitted-level-0);\n",
              "}\n",
              "\n",
              "#sk-container-id-4 div.sk-toggleable__content.fitted pre {\n",
              "  /* unfitted */\n",
              "  background-color: var(--sklearn-color-fitted-level-0);\n",
              "}\n",
              "\n",
              "#sk-container-id-4 input.sk-toggleable__control:checked~div.sk-toggleable__content {\n",
              "  /* Expand drop-down */\n",
              "  max-height: 200px;\n",
              "  max-width: 100%;\n",
              "  overflow: auto;\n",
              "}\n",
              "\n",
              "#sk-container-id-4 input.sk-toggleable__control:checked~label.sk-toggleable__label-arrow:before {\n",
              "  content: \"▾\";\n",
              "}\n",
              "\n",
              "/* Pipeline/ColumnTransformer-specific style */\n",
              "\n",
              "#sk-container-id-4 div.sk-label input.sk-toggleable__control:checked~label.sk-toggleable__label {\n",
              "  color: var(--sklearn-color-text);\n",
              "  background-color: var(--sklearn-color-unfitted-level-2);\n",
              "}\n",
              "\n",
              "#sk-container-id-4 div.sk-label.fitted input.sk-toggleable__control:checked~label.sk-toggleable__label {\n",
              "  background-color: var(--sklearn-color-fitted-level-2);\n",
              "}\n",
              "\n",
              "/* Estimator-specific style */\n",
              "\n",
              "/* Colorize estimator box */\n",
              "#sk-container-id-4 div.sk-estimator input.sk-toggleable__control:checked~label.sk-toggleable__label {\n",
              "  /* unfitted */\n",
              "  background-color: var(--sklearn-color-unfitted-level-2);\n",
              "}\n",
              "\n",
              "#sk-container-id-4 div.sk-estimator.fitted input.sk-toggleable__control:checked~label.sk-toggleable__label {\n",
              "  /* fitted */\n",
              "  background-color: var(--sklearn-color-fitted-level-2);\n",
              "}\n",
              "\n",
              "#sk-container-id-4 div.sk-label label.sk-toggleable__label,\n",
              "#sk-container-id-4 div.sk-label label {\n",
              "  /* The background is the default theme color */\n",
              "  color: var(--sklearn-color-text-on-default-background);\n",
              "}\n",
              "\n",
              "/* On hover, darken the color of the background */\n",
              "#sk-container-id-4 div.sk-label:hover label.sk-toggleable__label {\n",
              "  color: var(--sklearn-color-text);\n",
              "  background-color: var(--sklearn-color-unfitted-level-2);\n",
              "}\n",
              "\n",
              "/* Label box, darken color on hover, fitted */\n",
              "#sk-container-id-4 div.sk-label.fitted:hover label.sk-toggleable__label.fitted {\n",
              "  color: var(--sklearn-color-text);\n",
              "  background-color: var(--sklearn-color-fitted-level-2);\n",
              "}\n",
              "\n",
              "/* Estimator label */\n",
              "\n",
              "#sk-container-id-4 div.sk-label label {\n",
              "  font-family: monospace;\n",
              "  font-weight: bold;\n",
              "  display: inline-block;\n",
              "  line-height: 1.2em;\n",
              "}\n",
              "\n",
              "#sk-container-id-4 div.sk-label-container {\n",
              "  text-align: center;\n",
              "}\n",
              "\n",
              "/* Estimator-specific */\n",
              "#sk-container-id-4 div.sk-estimator {\n",
              "  font-family: monospace;\n",
              "  border: 1px dotted var(--sklearn-color-border-box);\n",
              "  border-radius: 0.25em;\n",
              "  box-sizing: border-box;\n",
              "  margin-bottom: 0.5em;\n",
              "  /* unfitted */\n",
              "  background-color: var(--sklearn-color-unfitted-level-0);\n",
              "}\n",
              "\n",
              "#sk-container-id-4 div.sk-estimator.fitted {\n",
              "  /* fitted */\n",
              "  background-color: var(--sklearn-color-fitted-level-0);\n",
              "}\n",
              "\n",
              "/* on hover */\n",
              "#sk-container-id-4 div.sk-estimator:hover {\n",
              "  /* unfitted */\n",
              "  background-color: var(--sklearn-color-unfitted-level-2);\n",
              "}\n",
              "\n",
              "#sk-container-id-4 div.sk-estimator.fitted:hover {\n",
              "  /* fitted */\n",
              "  background-color: var(--sklearn-color-fitted-level-2);\n",
              "}\n",
              "\n",
              "/* Specification for estimator info (e.g. \"i\" and \"?\") */\n",
              "\n",
              "/* Common style for \"i\" and \"?\" */\n",
              "\n",
              ".sk-estimator-doc-link,\n",
              "a:link.sk-estimator-doc-link,\n",
              "a:visited.sk-estimator-doc-link {\n",
              "  float: right;\n",
              "  font-size: smaller;\n",
              "  line-height: 1em;\n",
              "  font-family: monospace;\n",
              "  background-color: var(--sklearn-color-background);\n",
              "  border-radius: 1em;\n",
              "  height: 1em;\n",
              "  width: 1em;\n",
              "  text-decoration: none !important;\n",
              "  margin-left: 0.5em;\n",
              "  text-align: center;\n",
              "  /* unfitted */\n",
              "  border: var(--sklearn-color-unfitted-level-1) 1pt solid;\n",
              "  color: var(--sklearn-color-unfitted-level-1);\n",
              "}\n",
              "\n",
              ".sk-estimator-doc-link.fitted,\n",
              "a:link.sk-estimator-doc-link.fitted,\n",
              "a:visited.sk-estimator-doc-link.fitted {\n",
              "  /* fitted */\n",
              "  border: var(--sklearn-color-fitted-level-1) 1pt solid;\n",
              "  color: var(--sklearn-color-fitted-level-1);\n",
              "}\n",
              "\n",
              "/* On hover */\n",
              "div.sk-estimator:hover .sk-estimator-doc-link:hover,\n",
              ".sk-estimator-doc-link:hover,\n",
              "div.sk-label-container:hover .sk-estimator-doc-link:hover,\n",
              ".sk-estimator-doc-link:hover {\n",
              "  /* unfitted */\n",
              "  background-color: var(--sklearn-color-unfitted-level-3);\n",
              "  color: var(--sklearn-color-background);\n",
              "  text-decoration: none;\n",
              "}\n",
              "\n",
              "div.sk-estimator.fitted:hover .sk-estimator-doc-link.fitted:hover,\n",
              ".sk-estimator-doc-link.fitted:hover,\n",
              "div.sk-label-container:hover .sk-estimator-doc-link.fitted:hover,\n",
              ".sk-estimator-doc-link.fitted:hover {\n",
              "  /* fitted */\n",
              "  background-color: var(--sklearn-color-fitted-level-3);\n",
              "  color: var(--sklearn-color-background);\n",
              "  text-decoration: none;\n",
              "}\n",
              "\n",
              "/* Span, style for the box shown on hovering the info icon */\n",
              ".sk-estimator-doc-link span {\n",
              "  display: none;\n",
              "  z-index: 9999;\n",
              "  position: relative;\n",
              "  font-weight: normal;\n",
              "  right: .2ex;\n",
              "  padding: .5ex;\n",
              "  margin: .5ex;\n",
              "  width: min-content;\n",
              "  min-width: 20ex;\n",
              "  max-width: 50ex;\n",
              "  color: var(--sklearn-color-text);\n",
              "  box-shadow: 2pt 2pt 4pt #999;\n",
              "  /* unfitted */\n",
              "  background: var(--sklearn-color-unfitted-level-0);\n",
              "  border: .5pt solid var(--sklearn-color-unfitted-level-3);\n",
              "}\n",
              "\n",
              ".sk-estimator-doc-link.fitted span {\n",
              "  /* fitted */\n",
              "  background: var(--sklearn-color-fitted-level-0);\n",
              "  border: var(--sklearn-color-fitted-level-3);\n",
              "}\n",
              "\n",
              ".sk-estimator-doc-link:hover span {\n",
              "  display: block;\n",
              "}\n",
              "\n",
              "/* \"?\"-specific style due to the `<a>` HTML tag */\n",
              "\n",
              "#sk-container-id-4 a.estimator_doc_link {\n",
              "  float: right;\n",
              "  font-size: 1rem;\n",
              "  line-height: 1em;\n",
              "  font-family: monospace;\n",
              "  background-color: var(--sklearn-color-background);\n",
              "  border-radius: 1rem;\n",
              "  height: 1rem;\n",
              "  width: 1rem;\n",
              "  text-decoration: none;\n",
              "  /* unfitted */\n",
              "  color: var(--sklearn-color-unfitted-level-1);\n",
              "  border: var(--sklearn-color-unfitted-level-1) 1pt solid;\n",
              "}\n",
              "\n",
              "#sk-container-id-4 a.estimator_doc_link.fitted {\n",
              "  /* fitted */\n",
              "  border: var(--sklearn-color-fitted-level-1) 1pt solid;\n",
              "  color: var(--sklearn-color-fitted-level-1);\n",
              "}\n",
              "\n",
              "/* On hover */\n",
              "#sk-container-id-4 a.estimator_doc_link:hover {\n",
              "  /* unfitted */\n",
              "  background-color: var(--sklearn-color-unfitted-level-3);\n",
              "  color: var(--sklearn-color-background);\n",
              "  text-decoration: none;\n",
              "}\n",
              "\n",
              "#sk-container-id-4 a.estimator_doc_link.fitted:hover {\n",
              "  /* fitted */\n",
              "  background-color: var(--sklearn-color-fitted-level-3);\n",
              "}\n",
              "</style><div id=\"sk-container-id-4\" class=\"sk-top-container\"><div class=\"sk-text-repr-fallback\"><pre>RandomForestClassifier(criterion=&#x27;entropy&#x27;, n_estimators=10)</pre><b>In a Jupyter environment, please rerun this cell to show the HTML representation or trust the notebook. <br />On GitHub, the HTML representation is unable to render, please try loading this page with nbviewer.org.</b></div><div class=\"sk-container\" hidden><div class=\"sk-item\"><div class=\"sk-estimator fitted sk-toggleable\"><input class=\"sk-toggleable__control sk-hidden--visually\" id=\"sk-estimator-id-4\" type=\"checkbox\" checked><label for=\"sk-estimator-id-4\" class=\"sk-toggleable__label fitted sk-toggleable__label-arrow\"><div><div>RandomForestClassifier</div></div><div><a class=\"sk-estimator-doc-link fitted\" rel=\"noreferrer\" target=\"_blank\" href=\"https://scikit-learn.org/1.6/modules/generated/sklearn.ensemble.RandomForestClassifier.html\">?<span>Documentation for RandomForestClassifier</span></a><span class=\"sk-estimator-doc-link fitted\">i<span>Fitted</span></span></div></label><div class=\"sk-toggleable__content fitted\"><pre>RandomForestClassifier(criterion=&#x27;entropy&#x27;, n_estimators=10)</pre></div> </div></div></div></div>"
            ]
          },
          "metadata": {},
          "execution_count": 59
        }
      ]
    },
    {
      "cell_type": "code",
      "source": [
        "# Test veriseti üzerinde tahmin yap\n",
        "y_pred = rfc.predict(x_test)\n",
        "rfc.score(x_test, y_test)"
      ],
      "metadata": {
        "colab": {
          "base_uri": "https://localhost:8080/"
        },
        "id": "YGv1NAk0DJI-",
        "outputId": "210b70e8-e78f-4473-f013-668c6e5ea7f8"
      },
      "execution_count": 60,
      "outputs": [
        {
          "output_type": "execute_result",
          "data": {
            "text/plain": [
              "0.9737849779086892"
            ]
          },
          "metadata": {},
          "execution_count": 60
        }
      ]
    },
    {
      "cell_type": "markdown",
      "source": [
        "## 5. Sınıflandırma Performansının Görselleştirilmesi\n",
        "Precision, recall ve f1-score metrikleri her sınıf için hesaplanarak ısı haritası şeklinde görselleştirilir.\n"
      ],
      "metadata": {
        "id": "DSUTq-35Vl5R"
      }
    },
    {
      "cell_type": "code",
      "source": [
        "# Raporu al\n",
        "from sklearn.metrics import classification_report\n",
        "report = classification_report(y_test, y_pred, output_dict=True)\n",
        "print(classification_report(y_test, y_pred))"
      ],
      "metadata": {
        "colab": {
          "base_uri": "https://localhost:8080/"
        },
        "id": "e3readyFDYC0",
        "outputId": "2ea5bde5-930a-4655-b4f4-66a14af3283b"
      },
      "execution_count": 61,
      "outputs": [
        {
          "output_type": "stream",
          "name": "stdout",
          "text": [
            "              precision    recall  f1-score   support\n",
            "\n",
            "           1       0.98      0.98      0.98      3578\n",
            "           2       0.97      0.96      0.96      2499\n",
            "           3       0.96      0.96      0.96      1994\n",
            "           4       0.96      0.95      0.96      2373\n",
            "           5       0.98      0.99      0.99      6531\n",
            "\n",
            "    accuracy                           0.97     16975\n",
            "   macro avg       0.97      0.97      0.97     16975\n",
            "weighted avg       0.97      0.97      0.97     16975\n",
            "\n"
          ]
        }
      ]
    },
    {
      "cell_type": "code",
      "source": [
        "# Pandas DataFrame'e çevir\n",
        "df_report = pd.DataFrame(report).transpose()\n",
        "\n",
        "# Sadece sınıfları filtrele (accuracy, macro avg, vs. hariç)\n",
        "df_filtered = df_report.iloc[:-3, :]\n",
        "\n",
        "# Görselleştir\n",
        "plt.figure(figsize=(10, 6))\n",
        "sns.heatmap(df_filtered[['precision', 'recall', 'f1-score']], annot=True, cmap=\"Blues\", fmt=\".2f\")\n",
        "plt.title(\"Classification Report Heatmap\")\n",
        "plt.ylabel(\"Classes\")\n",
        "plt.xlabel(\"Metrics\")\n",
        "plt.tight_layout()\n",
        "plt.show()\n"
      ],
      "metadata": {
        "colab": {
          "base_uri": "https://localhost:8080/",
          "height": 607
        },
        "id": "BQ93qQoekZ_a",
        "outputId": "6e261210-b694-4ce1-98ca-7f30ad70e4a1"
      },
      "execution_count": 62,
      "outputs": [
        {
          "output_type": "display_data",
          "data": {
            "text/plain": [
              "<Figure size 1000x600 with 2 Axes>"
            ],
            "image/png": "[encoded data removed]"
          },
          "metadata": {}
        }
      ]
    },
    {
      "cell_type": "markdown",
      "source": [
        "## 6. Bireysel Tahmin İncelemesi\n",
        "Test setinden bir örnek seçilerek modelin tahmin ettiği sınıf ile gerçek sınıf karşılaştırılır.\n"
      ],
      "metadata": {
        "id": "OAKpKUouVplQ"
      }
    },
    {
      "cell_type": "code",
      "source": [
        "sample = x_test.iloc[1010]\n",
        "sample_reshaped = sample.values.reshape(1, -1)\n",
        "prediction = rfc.predict(sample_reshaped)\n",
        "\n",
        "print(\"Tahmin edilen sınıf:\", prediction[0])\n",
        "print(\"Gerçek sınıf:\", y_test.iloc[1010, 0])\n"
      ],
      "metadata": {
        "colab": {
          "base_uri": "https://localhost:8080/"
        },
        "id": "REtp8pLHH_J0",
        "outputId": "2cea2ce2-b78b-48ee-bc83-1e2b3e11c971"
      },
      "execution_count": 63,
      "outputs": [
        {
          "output_type": "stream",
          "name": "stdout",
          "text": [
            "Tahmin edilen sınıf: 2\n",
            "Gerçek sınıf: 2\n"
          ]
        },
        {
          "output_type": "stream",
          "name": "stderr",
          "text": [
            "/usr/local/lib/python3.11/dist-packages/sklearn/utils/validation.py:2739: UserWarning: X does not have valid feature names, but RandomForestClassifier was fitted with feature names\n",
            "  warnings.warn(\n"
          ]
        }
      ]
    },
    {
      "cell_type": "markdown",
      "source": [
        "## 7. Confusion Matrix (Karışıklık Matrisi)\n",
        "Modelin hangi sınıfları ne kadar doğru veya hatalı tahmin ettiğini gösterir. Görsel analiz için ısı haritası şeklinde sunulur.\n"
      ],
      "metadata": {
        "id": "oDfXb18BVr5n"
      }
    },
    {
      "cell_type": "code",
      "source": [
        "# Confusion matrix hesapla\n",
        "from sklearn.metrics import confusion_matrix\n",
        "cm = confusion_matrix(y_test, y_pred)\n",
        "print(cm)\n"
      ],
      "metadata": {
        "colab": {
          "base_uri": "https://localhost:8080/"
        },
        "id": "LWdgVwBZSnHh",
        "outputId": "4fb64905-eeaf-4147-a1ec-a1024b170931"
      },
      "execution_count": 64,
      "outputs": [
        {
          "output_type": "stream",
          "name": "stdout",
          "text": [
            "[[3502   26   10    2   38]\n",
            " [  50 2397   23   13   16]\n",
            " [  11   30 1905   34   14]\n",
            " [   5    8   40 2265   55]\n",
            " [  21   10    0   39 6461]]\n"
          ]
        }
      ]
    },
    {
      "cell_type": "code",
      "source": [
        "# Sınıf isimlerini belirle\n",
        "class_names = ['1', '2','3','4','5']\n",
        "\n",
        "# Görselleştir\n",
        "plt.figure(figsize=(6, 5))\n",
        "sns.heatmap(cm, annot=True, fmt='d', cmap='Blues',\n",
        "            xticklabels=class_names, yticklabels=class_names)\n",
        "plt.xlabel('Predicted Label')\n",
        "plt.ylabel('True Label')\n",
        "plt.title('Confusion Matrix')\n",
        "plt.tight_layout()\n",
        "plt.show()"
      ],
      "metadata": {
        "colab": {
          "base_uri": "https://localhost:8080/",
          "height": 507
        },
        "id": "iLoyAfJBl5K2",
        "outputId": "b5339119-7a4e-4164-b29f-abb5d823139f"
      },
      "execution_count": 65,
      "outputs": [
        {
          "output_type": "display_data",
          "data": {
            "text/plain": [
              "<Figure size 600x500 with 2 Axes>"
            ],
            "image/png": "[encoded data removed]"
          },
          "metadata": {}
        }
      ]
    },
    {
      "cell_type": "markdown",
      "source": [
        "## 8. ROC Eğrileri ile Sınıf Bazlı AUC Analizi\n",
        "Çoklu sınıflandırma problemi için ROC eğrileri her bir sınıf için çizilir. Her bir sınıfın AUC (Area Under Curve) değeri görsel olarak sunulur.\n"
      ],
      "metadata": {
        "id": "tcAYhsIoVusA"
      }
    },
    {
      "cell_type": "code",
      "source": [
        "from sklearn.preprocessing import label_binarize\n",
        "from sklearn.metrics import roc_curve, auc\n",
        "from sklearn.multiclass import OneVsRestClassifier\n",
        "from sklearn.preprocessing import StandardScaler\n",
        "from sklearn.pipeline import make_pipeline\n",
        "from sklearn.metrics import RocCurveDisplay\n",
        "\n",
        "# Etiketleri binarize et (One-hot encoding)\n",
        "y_test_bin = label_binarize(y_test, classes=[1, 2, 3, 4, 5])\n",
        "n_classes = y_test_bin.shape[1]\n",
        "\n",
        "# Yeni model tanımlayıp eğit (pipeline ile birlikte - ROC için ihtiyaç duyulur)\n",
        "model = make_pipeline(StandardScaler(), OneVsRestClassifier(RandomForestClassifier(n_estimators=10, criterion=\"entropy\")))\n",
        "model.fit(x_train, label_binarize(y_train, classes=[1, 2, 3, 4, 5]))\n",
        "\n",
        "# Skorları al\n",
        "y_score = model.predict_proba(x_test)\n",
        "\n",
        "# ROC eğrileri için ayar\n",
        "fpr = dict()\n",
        "tpr = dict()\n",
        "roc_auc = dict()\n",
        "\n",
        "# Her sınıf için ROC eğrisi hesapla\n",
        "for i in range(n_classes):\n",
        "    fpr[i], tpr[i], _ = roc_curve(y_test_bin[:, i], y_score[:, i])\n",
        "    roc_auc[i] = auc(fpr[i], tpr[i])\n",
        "\n",
        "# Tüm sınıflar için ROC eğrilerini çiz\n",
        "plt.figure(figsize=(10, 8))\n",
        "colors = ['blue', 'green', 'orange', 'red', 'purple']\n",
        "for i, color in zip(range(n_classes), colors):\n",
        "    plt.plot(fpr[i], tpr[i], color=color, lw=2,\n",
        "             label=f'Sınıf {i+1} (AUC = {roc_auc[i]:0.2f})')\n",
        "\n",
        "# Referans (şans) eğrisi\n",
        "plt.plot([0, 1], [0, 1], 'k--', lw=2)\n",
        "\n",
        "plt.xlim([0.0, 1.0])\n",
        "plt.ylim([0.0, 1.05])\n",
        "plt.xlabel('False Positive Rate', fontsize=13)\n",
        "plt.ylabel('True Positive Rate', fontsize=13)\n",
        "plt.title('ROC Curves for Multi-Class Classification', fontsize=15, weight='bold')\n",
        "plt.legend(loc=\"lower right\", fontsize=12)\n",
        "plt.grid(True)\n",
        "plt.tight_layout()\n",
        "plt.show()\n"
      ],
      "metadata": {
        "colab": {
          "base_uri": "https://localhost:8080/",
          "height": 807
        },
        "id": "KsqZawUoUr0F",
        "outputId": "fd38f704-05a7-4ff7-9475-f190ec1642cc"
      },
      "execution_count": 66,
      "outputs": [
        {
          "output_type": "display_data",
          "data": {
            "text/plain": [
              "<Figure size 1000x800 with 1 Axes>"
            ],
            "image/png": "[encoded data removed]"
          },
          "metadata": {}
        }
      ]
    },
    {
      "cell_type": "markdown",
      "source": [
        "## 9. Diğer Sınıflandırma Yöntemleri\n",
        "\n"
      ],
      "metadata": {
        "id": "8PYzgRMU8JXv"
      }
    },
    {
      "cell_type": "markdown",
      "source": [
        "### I. Logistic Regression\n",
        "\n"
      ],
      "metadata": {
        "id": "FqaMO4rjBM92"
      }
    },
    {
      "cell_type": "code",
      "source": [
        "from sklearn.linear_model import LogisticRegression\n",
        "\n",
        "# Modeli oluştur ve eğit\n",
        "model = LogisticRegression()\n",
        "model.fit(x_train, y_train)\n",
        "\n",
        "y_pred = model.predict(x_test)\n",
        "\n",
        "# Doğruluk ve diğer metrikler\n",
        "report = classification_report(y_test, y_pred, output_dict=True)\n",
        "print(classification_report(y_test, y_pred))"
      ],
      "metadata": {
        "colab": {
          "base_uri": "https://localhost:8080/"
        },
        "id": "naF87t1s8Tzw",
        "outputId": "19460f5f-a825-47fd-ee5e-c4896baa089e"
      },
      "execution_count": 68,
      "outputs": [
        {
          "output_type": "stream",
          "name": "stderr",
          "text": [
            "/usr/local/lib/python3.11/dist-packages/sklearn/utils/validation.py:1408: DataConversionWarning: A column-vector y was passed when a 1d array was expected. Please change the shape of y to (n_samples, ), for example using ravel().\n",
            "  y = column_or_1d(y, warn=True)\n"
          ]
        },
        {
          "output_type": "stream",
          "name": "stdout",
          "text": [
            "              precision    recall  f1-score   support\n",
            "\n",
            "           1       0.48      0.58      0.52      3578\n",
            "           2       0.56      0.38      0.45      2499\n",
            "           3       0.34      0.09      0.14      1994\n",
            "           4       0.41      0.06      0.10      2373\n",
            "           5       0.49      0.76      0.59      6531\n",
            "\n",
            "    accuracy                           0.49     16975\n",
            "   macro avg       0.45      0.37      0.36     16975\n",
            "weighted avg       0.47      0.49      0.44     16975\n",
            "\n"
          ]
        }
      ]
    },
    {
      "cell_type": "markdown",
      "source": [
        "### II. Decision Tree\n",
        "\n"
      ],
      "metadata": {
        "id": "syxDqYlZBXsW"
      }
    },
    {
      "cell_type": "code",
      "source": [
        "from sklearn.tree import DecisionTreeClassifier\n",
        "\n",
        "# Modeli oluştur ve eğit\n",
        "model = DecisionTreeClassifier(criterion=\"entropy\", random_state=42)\n",
        "model.fit(x_train, y_train)\n",
        "\n",
        "y_pred = model.predict(x_test)\n",
        "\n",
        "# Doğruluk ve diğer metrikler\n",
        "report = classification_report(y_test, y_pred, output_dict=True)\n",
        "print(classification_report(y_test, y_pred))"
      ],
      "metadata": {
        "colab": {
          "base_uri": "https://localhost:8080/"
        },
        "id": "FeEqcG9SAwAf",
        "outputId": "24088852-00e8-4fcb-9322-b3c96e879ef2"
      },
      "execution_count": 69,
      "outputs": [
        {
          "output_type": "stream",
          "name": "stdout",
          "text": [
            "              precision    recall  f1-score   support\n",
            "\n",
            "           1       0.97      0.96      0.96      3578\n",
            "           2       0.95      0.95      0.95      2499\n",
            "           3       0.94      0.94      0.94      1994\n",
            "           4       0.94      0.93      0.94      2373\n",
            "           5       0.97      0.98      0.97      6531\n",
            "\n",
            "    accuracy                           0.96     16975\n",
            "   macro avg       0.95      0.95      0.95     16975\n",
            "weighted avg       0.96      0.96      0.96     16975\n",
            "\n"
          ]
        }
      ]
    },
    {
      "cell_type": "markdown",
      "source": [
        "### III. Support Vector Machine\n",
        "\n",
        "\n"
      ],
      "metadata": {
        "id": "jT6Rxxo9NLmY"
      }
    },
    {
      "cell_type": "code",
      "source": [
        "from sklearn.svm import SVC\n",
        "\n",
        "# SVM modelini oluşturma ve eğitme\n",
        "svm_model = SVC(kernel='linear', C=1)\n",
        "svm_model.fit(x_train, y_train)\n",
        "\n",
        "y_pred = svm_model.predict(x_test)\n",
        "\n",
        "# Doğruluk ve diğer metrikler\n",
        "report = classification_report(y_test, y_pred, output_dict=True)\n",
        "print(classification_report(y_test, y_pred))"
      ],
      "metadata": {
        "colab": {
          "base_uri": "https://localhost:8080/"
        },
        "id": "9wiRaonGoWmL",
        "outputId": "662ec830-285f-46fc-ee51-fb68bc762146"
      },
      "execution_count": 70,
      "outputs": [
        {
          "output_type": "stream",
          "name": "stderr",
          "text": [
            "/usr/local/lib/python3.11/dist-packages/sklearn/utils/validation.py:1408: DataConversionWarning: A column-vector y was passed when a 1d array was expected. Please change the shape of y to (n_samples, ), for example using ravel().\n",
            "  y = column_or_1d(y, warn=True)\n"
          ]
        },
        {
          "output_type": "stream",
          "name": "stdout",
          "text": [
            "              precision    recall  f1-score   support\n",
            "\n",
            "           1       0.46      0.60      0.52      3578\n",
            "           2       0.65      0.24      0.35      2499\n",
            "           3       0.00      0.00      0.00      1994\n",
            "           4       0.25      0.00      0.00      2373\n",
            "           5       0.48      0.83      0.61      6531\n",
            "\n",
            "    accuracy                           0.48     16975\n",
            "   macro avg       0.37      0.33      0.30     16975\n",
            "weighted avg       0.41      0.48      0.40     16975\n",
            "\n"
          ]
        }
      ]
    },
    {
      "cell_type": "markdown",
      "source": [
        "### IV. Gaussian Naive Bayes"
      ],
      "metadata": {
        "id": "86LL7flNpw1l"
      }
    },
    {
      "cell_type": "code",
      "source": [
        "from sklearn.naive_bayes import GaussianNB\n",
        "\n",
        "# Modeli oluştur ve eğit\n",
        "gnb = GaussianNB()\n",
        "gnb.fit(x_train, y_train)\n",
        "\n",
        "y_pred = gnb.predict(x_test)\n",
        "\n",
        "# Doğruluk ve diğer metrikler\n",
        "report = classification_report(y_test, y_pred, output_dict=True)\n",
        "print(classification_report(y_test, y_pred))"
      ],
      "metadata": {
        "colab": {
          "base_uri": "https://localhost:8080/"
        },
        "id": "VsYg28pGoXGT",
        "outputId": "d836c16a-7114-4bca-f184-cff4aa69156a"
      },
      "execution_count": 71,
      "outputs": [
        {
          "output_type": "stream",
          "name": "stdout",
          "text": [
            "              precision    recall  f1-score   support\n",
            "\n",
            "           1       0.35      0.67      0.46      3578\n",
            "           2       0.40      0.58      0.47      2499\n",
            "           3       0.25      0.03      0.06      1994\n",
            "           4       0.31      0.18      0.23      2373\n",
            "           5       0.57      0.42      0.48      6531\n",
            "\n",
            "    accuracy                           0.42     16975\n",
            "   macro avg       0.38      0.38      0.34     16975\n",
            "weighted avg       0.42      0.42      0.39     16975\n",
            "\n"
          ]
        },
        {
          "output_type": "stream",
          "name": "stderr",
          "text": [
            "/usr/local/lib/python3.11/dist-packages/sklearn/utils/validation.py:1408: DataConversionWarning: A column-vector y was passed when a 1d array was expected. Please change the shape of y to (n_samples, ), for example using ravel().\n",
            "  y = column_or_1d(y, warn=True)\n"
          ]
        }
      ]
    }
  ]
}